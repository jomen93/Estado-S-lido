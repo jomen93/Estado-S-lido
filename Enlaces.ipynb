{
 "cells": [
  {
   "cell_type": "markdown",
   "metadata": {},
   "source": [
    "# Tipos de enlace \n",
    "\n",
    "Se consideran los principales enlaces"
   ]
  },
  {
   "cell_type": "markdown",
   "metadata": {},
   "source": [
    "## Van der Waals :\n",
    "\n",
    "Consideremos dos átomos de gas interte idénticos\n",
    "\n",
    "<img src=\"particulas.png\",width=350,height=100>\n",
    "\n",
    "Suponiendo que su núcleo es postivo y tiene simetría esférica en la distribución electrónica. Para el estudio se considera que el nçuleo cargado positivamente siempre estará en el centro, solamente se modifica la distribución electrónica de cada átomo, por tanto se puede hablar de dipolos inducidos cuando existe interacción entre tales elementos. \n",
    "\n",
    "> Pero los dipolos inducen dipolos en sus átomos vecinos generando siempre una fuerza atractiva...  veamos como\n",
    "\n",
    "Para el Gas inerte se utilzia un modelo de dos osciladores armónicos idéntico , que se describen en el siguiente esquema\n",
    "\n",
    "<img src=\"Oscillators.png\",width=300,height=100>\n",
    "\n",
    "Para estos dos átomos que tienen el mismo spin la interacción de Van der Waals es sólo atractiva, pero en el corto alcance es sólo repulsiva. El Hamiltoniano del sisterma es:\n",
    "\n",
    "$$H = H_{A} + H_{B} + H'$$\n",
    "\n",
    "$$\n",
    "H_{A} = \\frac{-\\hbar\\nabla_{1}^{2}}{2m}-\\frac{e^{2}}{r_{1A}} \\qquad H_{B} = \\frac{-\\hbar\\nabla_{2}^{2}}{2m} -\\frac{e^{2}}{r_{2B}}\n",
    "$$ \n",
    "\n",
    "$$\n",
    "H'= \\frac{e^{2}}{R} + \\frac{e^{2}}{r_{12}} -\\frac{e^{2}}{r_{2A} - \\frac{e^{2}}{r_{1B}}}\n",
    "$$\n",
    "\n",
    "\n",
    "El Hamiltoniano de orden cero está dado por los términos de los núcleos. La función de onda se puede escribir mediante la siguiente separación, dada la independencia de coordenadas debido a la oinclusión de $H'$\n",
    "\n",
    "$$\n",
    "u(\\mathbf{r_{a},r_{b}}) = u_{nlm}(\\mathbf{r_{a}})u_{n'l'm'}(\\mathbf{r_{b}}) = <\\mathbf{r_{A}}|nlm><\\mathbf{r_{B}}|n'l'm'>\n",
    "$$\n",
    "\n",
    "Se supone que el átomo está en el nivel más bajo de energía $n=1$,$l=0$,$m=0$, esto es:\n",
    "\n",
    "$$\n",
    "u_{o} = (\\mathbf{r_{a},r_{b}}) = u_{100}(\\mathbf{r_{a}})u_{100}(\\mathbf{r_{b}})\n",
    "$$\n",
    "\n",
    "Por mecánica cuántica $u_{o}$ es una autofunción del hamiltoniano del sistema en el estado base, por lo tenato $H_{o}u_{o} = E_{o}u_{o}$ donde $E_{o} = -2E_{1}$, con $E_{1}$ la energía de ionización del Hifrógeno. \n",
    "\n",
    "Por último se debe estudiar $H'$, que incluye la interacción entre partículas de diferentes átomos, de forma perturvativa. Expandimos la expresión $1/R$ (Tomando el eje molecular $\\mathbf{R}$ paralelo a $\\mathbf{z}$)\n",
    "\n",
    "\n",
    "$$\n",
    "\\frac{1}{r_{2A}} = \\frac{1}{|\\mathbf{R} + \\mathbf{r_{2}}|} = \\frac{1}{\\sqrt{R^{2}+r_{2}^{2}+2\\mathbf{r_{2}}\\cdot\\mathbf{R}}} = \\frac{1}{R}\\frac{1}{\\sqrt{1+2z_{2}/R+(r_{2}/R)^{2}}}\n",
    "$$\n",
    "\n",
    "\n",
    "$$\n",
    "\\frac{1}{r_{1B}}  = \\frac{1}{R}\\frac{1}{\\sqrt{1+2z_{1}/R+(r_{1}/R)^{2}}}\n",
    "$$\n",
    "\n",
    "$$\n",
    "r_{12} = \\frac{1}{|\\mathbf{r_{1}}-(\\mathbf{R}+\\mathbf{r_{2}})|} = \\frac{1}{r}\\frac{1}{\\sqrt{1 + 2\\frac{(z_{2}-z_{1})}{R}+\\frac{(\\mathbf{r_{2}}-\\mathbf{r_{1}})\\cdot(\\mathbf{r_{2}}-\\mathbf{r_{1}})}{R^{2}}}}\n",
    "$$\n",
    "\n",
    "\n",
    "Como $R >> a_{o} \\approx |r_{1}|, |r_{2}|$\n",
    "\n"
   ]
  },
  {
   "cell_type": "markdown",
   "metadata": {},
   "source": [
    "## Covalente : "
   ]
  },
  {
   "cell_type": "markdown",
   "metadata": {},
   "source": [
    "## Metálico :\n"
   ]
  },
  {
   "cell_type": "markdown",
   "metadata": {},
   "source": [
    "## Iónico :"
   ]
  },
  {
   "cell_type": "markdown",
   "metadata": {},
   "source": []
  },
  {
   "cell_type": "code",
   "execution_count": null,
   "metadata": {},
   "outputs": [],
   "source": []
  },
  {
   "cell_type": "code",
   "execution_count": null,
   "metadata": {},
   "outputs": [],
   "source": []
  }
 ],
 "metadata": {
  "kernelspec": {
   "display_name": "Python 2",
   "language": "python",
   "name": "python2"
  },
  "language_info": {
   "codemirror_mode": {
    "name": "ipython",
    "version": 2
   },
   "file_extension": ".py",
   "mimetype": "text/x-python",
   "name": "python",
   "nbconvert_exporter": "python",
   "pygments_lexer": "ipython2",
   "version": "2.7.14"
  }
 },
 "nbformat": 4,
 "nbformat_minor": 2
}
